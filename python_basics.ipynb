{
 "cells": [
  {
   "cell_type": "code",
   "execution_count": 1,
   "id": "1ae434d9",
   "metadata": {},
   "outputs": [],
   "source": [
    "num1 = 5\n",
    "num2, num3 = 6, 7"
   ]
  },
  {
   "cell_type": "markdown",
   "id": "ccb9ee0f",
   "metadata": {},
   "source": [
    "## differnet types of printing statements"
   ]
  },
  {
   "cell_type": "code",
   "execution_count": 15,
   "id": "3909b8f7",
   "metadata": {},
   "outputs": [
    {
     "name": "stdout",
     "output_type": "stream",
     "text": [
      "The value of num1 is  5\n",
      "5\n",
      "6\n",
      "7\n",
      "5 6 7\n",
      "5 --- 6 --- 7\n",
      "5 ** 6 7\n"
     ]
    }
   ],
   "source": [
    "print(\"The value of num1 is \",num1)\n",
    "print(num1)\n",
    "print(num2)\n",
    "print(num3)\n",
    "print(num1, num2, num3)\n",
    "print(num1, num2, num3, sep = \" --- \")\n",
    "print(num1, end = \" ** \")\n",
    "print(num2, num3)"
   ]
  },
  {
   "cell_type": "code",
   "execution_count": 38,
   "id": "d8fde6da",
   "metadata": {},
   "outputs": [
    {
     "name": "stdout",
     "output_type": "stream",
     "text": [
      "567\n",
      "5**6**7\n",
      "6$$7$$5\n",
      "7--6--5\n",
      "5 6 7\n"
     ]
    }
   ],
   "source": [
    "print(\"{}{}{}\".format(num1, num2, num3))\n",
    "print(\"{}**{}**{}\".format(num1, num2, num3))\n",
    "print(\"{}$${}$${}\".format(num2, num3, num1))\n",
    "print(\"{2}--{1}--{0}\".format(num1, num2, num3))\n",
    "print(f\"{num1} {num2} {num3}\")"
   ]
  },
  {
   "cell_type": "code",
   "execution_count": 33,
   "id": "f6fbbd26",
   "metadata": {},
   "outputs": [
    {
     "name": "stdout",
     "output_type": "stream",
     "text": [
      "5.000000\n",
      "6.000\n",
      "1.500\n",
      "1.50\n"
     ]
    }
   ],
   "source": [
    "print(\"{:f}\".format(num1))\n",
    "print(\"{:.3f}\".format(num2))\n",
    "print(\"{:.3f}\".format(1.5))\n",
    "print(\"{:2.2f}\".format(1.5))"
   ]
  },
  {
   "cell_type": "code",
   "execution_count": 21,
   "id": "638502f3",
   "metadata": {},
   "outputs": [
    {
     "name": "stdout",
     "output_type": "stream",
     "text": [
      "num1 = 5 num2 = 6 num3 = 7\n",
      "num1 = 5 num2 = 6 num3 = 7\n"
     ]
    }
   ],
   "source": [
    "print(\"num1 = %d num2 = %d num3 = %d\"%(num1, num2, num3))\n",
    "print(\"num1 = %i num2 = %i num3 = %i\"%(num1, num2, num3))"
   ]
  },
  {
   "cell_type": "code",
   "execution_count": 23,
   "id": "8602556b",
   "metadata": {},
   "outputs": [
    {
     "name": "stdout",
     "output_type": "stream",
     "text": [
      "python\n"
     ]
    }
   ],
   "source": [
    "print(\"%s\"%(\"python\"))"
   ]
  },
  {
   "cell_type": "code",
   "execution_count": 34,
   "id": "d275d9cb",
   "metadata": {},
   "outputs": [
    {
     "name": "stdout",
     "output_type": "stream",
     "text": [
      "Hello World !\n"
     ]
    }
   ],
   "source": [
    "print(\"%s %s !\"%(\"Hello\", \"World\"))"
   ]
  },
  {
   "cell_type": "code",
   "execution_count": 35,
   "id": "f0996057",
   "metadata": {},
   "outputs": [
    {
     "name": "stdout",
     "output_type": "stream",
     "text": [
      "Hello World !\n"
     ]
    }
   ],
   "source": [
    "print(\"Hello \"+\"World !\")"
   ]
  },
  {
   "cell_type": "code",
   "execution_count": 42,
   "id": "51513122",
   "metadata": {},
   "outputs": [
    {
     "name": "stdout",
     "output_type": "stream",
     "text": [
      "Python \n",
      " programming\n"
     ]
    }
   ],
   "source": [
    "print(\"Python \\n programming\")"
   ]
  },
  {
   "cell_type": "code",
   "execution_count": 43,
   "id": "885c9f4f",
   "metadata": {},
   "outputs": [
    {
     "ename": "SyntaxError",
     "evalue": "(unicode error) 'unicodeescape' codec can't decode bytes in position 7-8: truncated \\xXX escape (<ipython-input-43-65262b73a3c1>, line 1)",
     "output_type": "error",
     "traceback": [
      "\u001b[1;36m  File \u001b[1;32m\"<ipython-input-43-65262b73a3c1>\"\u001b[1;36m, line \u001b[1;32m1\u001b[0m\n\u001b[1;33m    print(\"python \\x programming\")\u001b[0m\n\u001b[1;37m          ^\u001b[0m\n\u001b[1;31mSyntaxError\u001b[0m\u001b[1;31m:\u001b[0m (unicode error) 'unicodeescape' codec can't decode bytes in position 7-8: truncated \\xXX escape\n"
     ]
    }
   ],
   "source": [
    "print(\"python \\x programming\")"
   ]
  },
  {
   "cell_type": "code",
   "execution_count": 46,
   "id": "b45d4e57",
   "metadata": {},
   "outputs": [
    {
     "name": "stdout",
     "output_type": "stream",
     "text": [
      "python \\x programming\n",
      "python \\n programming\n",
      "python \\n programming\n"
     ]
    }
   ],
   "source": [
    "print(r\"python \\x programming\")# python raw string is indicates with r or R before string starts\n",
    "print(r\"python \\n programming\")\n",
    "print(R\"python \\n programming\")"
   ]
  },
  {
   "cell_type": "code",
   "execution_count": 51,
   "id": "199b31d0",
   "metadata": {},
   "outputs": [
    {
     "ename": "SyntaxError",
     "evalue": "invalid syntax (<ipython-input-51-2f554be33e14>, line 1)",
     "output_type": "error",
     "traceback": [
      "\u001b[1;36m  File \u001b[1;32m\"<ipython-input-51-2f554be33e14>\"\u001b[1;36m, line \u001b[1;32m1\u001b[0m\n\u001b[1;33m    print(\"python \" programing\")\u001b[0m\n\u001b[1;37m                    ^\u001b[0m\n\u001b[1;31mSyntaxError\u001b[0m\u001b[1;31m:\u001b[0m invalid syntax\n"
     ]
    }
   ],
   "source": [
    "print(\"python \" programing\")"
   ]
  },
  {
   "cell_type": "code",
   "execution_count": 52,
   "id": "df61d788",
   "metadata": {},
   "outputs": [
    {
     "name": "stdout",
     "output_type": "stream",
     "text": [
      "python \" programing\n"
     ]
    }
   ],
   "source": [
    "print(\"python \\\" programing\")# backslash used for escape character"
   ]
  }
 ],
 "metadata": {
  "kernelspec": {
   "display_name": "Python 3",
   "language": "python",
   "name": "python3"
  },
  "language_info": {
   "codemirror_mode": {
    "name": "ipython",
    "version": 3
   },
   "file_extension": ".py",
   "mimetype": "text/x-python",
   "name": "python",
   "nbconvert_exporter": "python",
   "pygments_lexer": "ipython3",
   "version": "3.8.8"
  }
 },
 "nbformat": 4,
 "nbformat_minor": 5
}
