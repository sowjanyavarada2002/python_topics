{
 "cells": [
  {
   "cell_type": "markdown",
   "id": "171de3cc",
   "metadata": {},
   "source": [
    "# Sets"
   ]
  },
  {
   "cell_type": "code",
   "execution_count": 1,
   "id": "e70dd7bd",
   "metadata": {},
   "outputs": [
    {
     "data": {
      "text/plain": [
       "set()"
      ]
     },
     "execution_count": 1,
     "metadata": {},
     "output_type": "execute_result"
    }
   ],
   "source": [
    "#creating empty set\n",
    "set1 = set()\n",
    "set1"
   ]
  },
  {
   "cell_type": "code",
   "execution_count": 29,
   "id": "2c7185dd",
   "metadata": {},
   "outputs": [
    {
     "name": "stdout",
     "output_type": "stream",
     "text": [
      "{1, 2, 3, 4, 5}\n"
     ]
    },
    {
     "data": {
      "text/plain": [
       "set"
      ]
     },
     "execution_count": 29,
     "metadata": {},
     "output_type": "execute_result"
    }
   ],
   "source": [
    "#creating set with elements(it not allows duplicates)\n",
    "set2 = {1, 2, 3, 4, 5, 1}\n",
    "print(set2)\n",
    "type(set2)"
   ]
  },
  {
   "cell_type": "code",
   "execution_count": 30,
   "id": "943e961a",
   "metadata": {},
   "outputs": [
    {
     "data": {
      "text/plain": [
       "{1, 2, 3, 4, 5, 15}"
      ]
     },
     "execution_count": 30,
     "metadata": {},
     "output_type": "execute_result"
    }
   ],
   "source": [
    "#adding elements to set\n",
    "set2.add(15)\n",
    "set2"
   ]
  },
  {
   "cell_type": "code",
   "execution_count": 31,
   "id": "751a4231",
   "metadata": {},
   "outputs": [
    {
     "data": {
      "text/plain": [
       "{1, 2, 3, 4, 5, 15}"
      ]
     },
     "execution_count": 31,
     "metadata": {},
     "output_type": "execute_result"
    }
   ],
   "source": [
    "set3 = set2.copy()\n",
    "set3"
   ]
  },
  {
   "cell_type": "code",
   "execution_count": 32,
   "id": "d3cd091b",
   "metadata": {},
   "outputs": [
    {
     "data": {
      "text/plain": [
       "set()"
      ]
     },
     "execution_count": 32,
     "metadata": {},
     "output_type": "execute_result"
    }
   ],
   "source": [
    "set3.clear()\n",
    "set3"
   ]
  },
  {
   "cell_type": "code",
   "execution_count": 33,
   "id": "04eca30a",
   "metadata": {},
   "outputs": [
    {
     "data": {
      "text/plain": [
       "{1, 2, 3, 4, 5}"
      ]
     },
     "execution_count": 33,
     "metadata": {},
     "output_type": "execute_result"
    }
   ],
   "source": [
    "#removing specified element\n",
    "set2.discard(15)\n",
    "set2"
   ]
  },
  {
   "cell_type": "code",
   "execution_count": 34,
   "id": "5fb85a70",
   "metadata": {},
   "outputs": [
    {
     "name": "stdout",
     "output_type": "stream",
     "text": [
      "{1, 2, 3}\n",
      "{8, 6, 7}\n",
      "{1, 2, 3}\n",
      "{8, 6, 7}\n"
     ]
    }
   ],
   "source": [
    "#Returns a set containing the difference between two or more sets\n",
    "set3 = {4, 5, 6, 7, 8}\n",
    "print(set2.difference(set3), set3.difference(set2), sep = \"\\n\")\n",
    "print(set2-set3, set3-set2, sep=\"\\n\")"
   ]
  },
  {
   "cell_type": "code",
   "execution_count": 35,
   "id": "79b67f08",
   "metadata": {},
   "outputs": [
    {
     "data": {
      "text/plain": [
       "({4, 5}, {4, 5})"
      ]
     },
     "execution_count": 35,
     "metadata": {},
     "output_type": "execute_result"
    }
   ],
   "source": [
    "#Returns a set, that is the intersection of two or more sets\n",
    "set2.intersection(set3), set2 & set3"
   ]
  },
  {
   "cell_type": "code",
   "execution_count": 36,
   "id": "6ba7c523",
   "metadata": {},
   "outputs": [
    {
     "data": {
      "text/plain": [
       "False"
      ]
     },
     "execution_count": 36,
     "metadata": {},
     "output_type": "execute_result"
    }
   ],
   "source": [
    "#Returns whether two sets have a intersection or not\n",
    "set2.isdisjoint(set3)"
   ]
  },
  {
   "cell_type": "code",
   "execution_count": 37,
   "id": "b761a40a",
   "metadata": {},
   "outputs": [
    {
     "data": {
      "text/plain": [
       "False"
      ]
     },
     "execution_count": 37,
     "metadata": {},
     "output_type": "execute_result"
    }
   ],
   "source": [
    "#Returns whether another set contains this set or not\n",
    "set2.issubset({1, 2, 3})"
   ]
  },
  {
   "cell_type": "code",
   "execution_count": 38,
   "id": "daa92337",
   "metadata": {},
   "outputs": [
    {
     "data": {
      "text/plain": [
       "True"
      ]
     },
     "execution_count": 38,
     "metadata": {},
     "output_type": "execute_result"
    }
   ],
   "source": [
    "{1, 2, 3}.issubset(set2)"
   ]
  },
  {
   "cell_type": "code",
   "execution_count": 15,
   "id": "48cc25ed",
   "metadata": {},
   "outputs": [
    {
     "data": {
      "text/plain": [
       "True"
      ]
     },
     "execution_count": 15,
     "metadata": {},
     "output_type": "execute_result"
    }
   ],
   "source": [
    "#Returns whether this set contains another set or not\n",
    "set2.issuperset({1, 2, 3})"
   ]
  },
  {
   "cell_type": "code",
   "execution_count": 16,
   "id": "76ed2489",
   "metadata": {},
   "outputs": [
    {
     "data": {
      "text/plain": [
       "{1, 2, 3, 4, 5, 6, 7, 8}"
      ]
     },
     "execution_count": 16,
     "metadata": {},
     "output_type": "execute_result"
    }
   ],
   "source": [
    "#Return a set containing the union of sets\n",
    "set2.union(set3)"
   ]
  },
  {
   "cell_type": "code",
   "execution_count": 18,
   "id": "85790f8b",
   "metadata": {},
   "outputs": [
    {
     "data": {
      "text/plain": [
       "{1, 2, 3, 4, 5, 23, 25, 26}"
      ]
     },
     "execution_count": 18,
     "metadata": {},
     "output_type": "execute_result"
    }
   ],
   "source": [
    "#Update the set with another set, or any other iterable\n",
    "set2.update({23, 25, 26})\n",
    "set2"
   ]
  },
  {
   "cell_type": "code",
   "execution_count": 21,
   "id": "ad33ac2e",
   "metadata": {},
   "outputs": [
    {
     "data": {
      "text/plain": [
       "({1, 2, 3, 6, 7, 8, 23, 25, 26}, {1, 2, 3, 6, 7, 8, 23, 25, 26})"
      ]
     },
     "execution_count": 21,
     "metadata": {},
     "output_type": "execute_result"
    }
   ],
   "source": [
    "#Returns a set with the symmetric differences of two sets\n",
    "set2.symmetric_difference(set3), set3.symmetric_difference(set2)"
   ]
  },
  {
   "cell_type": "code",
   "execution_count": 22,
   "id": "8cc4c790",
   "metadata": {},
   "outputs": [],
   "source": [
    "#Removes the items in this set that are also included in another, specified set\n",
    "set2.difference_update(set3)"
   ]
  },
  {
   "cell_type": "code",
   "execution_count": 23,
   "id": "0eeaabb0",
   "metadata": {},
   "outputs": [
    {
     "data": {
      "text/plain": [
       "{1, 2, 3, 23, 25, 26}"
      ]
     },
     "execution_count": 23,
     "metadata": {},
     "output_type": "execute_result"
    }
   ],
   "source": [
    "set2"
   ]
  },
  {
   "cell_type": "code",
   "execution_count": 24,
   "id": "b5e533ad",
   "metadata": {},
   "outputs": [
    {
     "data": {
      "text/plain": [
       "set()"
      ]
     },
     "execution_count": 24,
     "metadata": {},
     "output_type": "execute_result"
    }
   ],
   "source": [
    "set2.intersection_update(set3)\n",
    "set2"
   ]
  },
  {
   "cell_type": "code",
   "execution_count": 39,
   "id": "9a5af3b8",
   "metadata": {},
   "outputs": [
    {
     "data": {
      "text/plain": [
       "4"
      ]
     },
     "execution_count": 39,
     "metadata": {},
     "output_type": "execute_result"
    }
   ],
   "source": [
    "#remove elements from set\n",
    "set3.pop()"
   ]
  },
  {
   "cell_type": "code",
   "execution_count": 40,
   "id": "7594638e",
   "metadata": {},
   "outputs": [
    {
     "data": {
      "text/plain": [
       "{5, 6, 7, 8}"
      ]
     },
     "execution_count": 40,
     "metadata": {},
     "output_type": "execute_result"
    }
   ],
   "source": [
    "set3"
   ]
  },
  {
   "cell_type": "code",
   "execution_count": 41,
   "id": "882dde6f",
   "metadata": {},
   "outputs": [
    {
     "data": {
      "text/plain": [
       "{1, 2, 3, 4, 'a', 'python'}"
      ]
     },
     "execution_count": 41,
     "metadata": {},
     "output_type": "execute_result"
    }
   ],
   "source": [
    "#creating with different datatypes\n",
    "set4 = {\"python\", 1, 2, 3, 4, 'a'}\n",
    "set4"
   ]
  }
 ],
 "metadata": {
  "kernelspec": {
   "display_name": "Python 3",
   "language": "python",
   "name": "python3"
  },
  "language_info": {
   "codemirror_mode": {
    "name": "ipython",
    "version": 3
   },
   "file_extension": ".py",
   "mimetype": "text/x-python",
   "name": "python",
   "nbconvert_exporter": "python",
   "pygments_lexer": "ipython3",
   "version": "3.8.8"
  }
 },
 "nbformat": 4,
 "nbformat_minor": 5
}
