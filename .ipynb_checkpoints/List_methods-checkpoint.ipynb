{
 "cells": [
  {
   "cell_type": "markdown",
   "id": "592eb230",
   "metadata": {},
   "source": [
    "# Lists"
   ]
  },
  {
   "cell_type": "code",
   "execution_count": 1,
   "id": "c49aa691",
   "metadata": {},
   "outputs": [
    {
     "name": "stdout",
     "output_type": "stream",
     "text": [
      "[]\n",
      "[]\n"
     ]
    }
   ],
   "source": [
    "#creating empty list\n",
    "lis1 = []\n",
    "lis2 = list()\n",
    "print(lis1, lis2, sep = \"\\n\")"
   ]
  },
  {
   "cell_type": "code",
   "execution_count": 33,
   "id": "67ad0ad4",
   "metadata": {},
   "outputs": [
    {
     "name": "stdout",
     "output_type": "stream",
     "text": [
      "[1, 2, 3, 4, 5]\n"
     ]
    },
    {
     "data": {
      "text/plain": [
       "list"
      ]
     },
     "execution_count": 33,
     "metadata": {},
     "output_type": "execute_result"
    }
   ],
   "source": [
    "#creating list with items\n",
    "lis1 = [1, 2, 3, 4, 5]\n",
    "print(lis1)\n",
    "type(lis1)"
   ]
  },
  {
   "cell_type": "code",
   "execution_count": 39,
   "id": "5d1307d4",
   "metadata": {},
   "outputs": [
    {
     "name": "stdout",
     "output_type": "stream",
     "text": [
      "3\n",
      "[3, 4, 5]\n"
     ]
    }
   ],
   "source": [
    "#elements accessed using slicing or indexing\n",
    "print(lis1[2], lis1[2:5], sep=\"\\n\")"
   ]
  },
  {
   "cell_type": "code",
   "execution_count": 4,
   "id": "3eef3955",
   "metadata": {},
   "outputs": [],
   "source": [
    "#appending into list\n",
    "lis1.append(6)"
   ]
  },
  {
   "cell_type": "code",
   "execution_count": 5,
   "id": "bc10bc66",
   "metadata": {},
   "outputs": [
    {
     "data": {
      "text/plain": [
       "[1, 2, 3, 4, 5, 6]"
      ]
     },
     "execution_count": 5,
     "metadata": {},
     "output_type": "execute_result"
    }
   ],
   "source": [
    "lis1"
   ]
  },
  {
   "cell_type": "code",
   "execution_count": 9,
   "id": "3aa52d8e",
   "metadata": {},
   "outputs": [
    {
     "data": {
      "text/plain": [
       "[1, 10, 2, 3, 4, 5, 6]"
      ]
     },
     "execution_count": 9,
     "metadata": {},
     "output_type": "execute_result"
    }
   ],
   "source": [
    "#adding an element at specified position\n",
    "lis1.insert(1, 10)\n",
    "lis1"
   ]
  },
  {
   "cell_type": "code",
   "execution_count": 10,
   "id": "2813b861",
   "metadata": {},
   "outputs": [
    {
     "data": {
      "text/plain": [
       "7"
      ]
     },
     "execution_count": 10,
     "metadata": {},
     "output_type": "execute_result"
    }
   ],
   "source": [
    "len(lis1)"
   ]
  },
  {
   "cell_type": "code",
   "execution_count": 11,
   "id": "11de303d",
   "metadata": {},
   "outputs": [
    {
     "data": {
      "text/plain": [
       "10"
      ]
     },
     "execution_count": 11,
     "metadata": {},
     "output_type": "execute_result"
    }
   ],
   "source": [
    "#Removes the element at the specified position\n",
    "lis1.pop(1)"
   ]
  },
  {
   "cell_type": "code",
   "execution_count": 12,
   "id": "15e0be6e",
   "metadata": {},
   "outputs": [
    {
     "data": {
      "text/plain": [
       "[1, 2, 3, 4, 5, 6]"
      ]
     },
     "execution_count": 12,
     "metadata": {},
     "output_type": "execute_result"
    }
   ],
   "source": [
    "lis1"
   ]
  },
  {
   "cell_type": "code",
   "execution_count": 13,
   "id": "c5a08b3e",
   "metadata": {},
   "outputs": [],
   "source": [
    "lis1.append(4)\n",
    "#Removes the first item with the specified value\n",
    "lis1.remove(4)"
   ]
  },
  {
   "cell_type": "code",
   "execution_count": 14,
   "id": "82feab42",
   "metadata": {},
   "outputs": [
    {
     "data": {
      "text/plain": [
       "[1, 2, 3, 5, 6, 4]"
      ]
     },
     "execution_count": 14,
     "metadata": {},
     "output_type": "execute_result"
    }
   ],
   "source": [
    "lis1"
   ]
  },
  {
   "cell_type": "code",
   "execution_count": 15,
   "id": "aac29913",
   "metadata": {},
   "outputs": [
    {
     "data": {
      "text/plain": [
       "4"
      ]
     },
     "execution_count": 15,
     "metadata": {},
     "output_type": "execute_result"
    }
   ],
   "source": [
    "#by defaults removes last element\n",
    "lis1.pop()"
   ]
  },
  {
   "cell_type": "code",
   "execution_count": 16,
   "id": "9ae7f160",
   "metadata": {},
   "outputs": [
    {
     "data": {
      "text/plain": [
       "[1, 2, 3, 5, 6]"
      ]
     },
     "execution_count": 16,
     "metadata": {},
     "output_type": "execute_result"
    }
   ],
   "source": [
    "lis1"
   ]
  },
  {
   "cell_type": "code",
   "execution_count": 19,
   "id": "0dee4bd6",
   "metadata": {},
   "outputs": [
    {
     "data": {
      "text/plain": [
       "[6, 5, 3, 2, 1]"
      ]
     },
     "execution_count": 19,
     "metadata": {},
     "output_type": "execute_result"
    }
   ],
   "source": [
    "#Reverses the order of the list\n",
    "lis1.reverse()\n",
    "lis1"
   ]
  },
  {
   "cell_type": "code",
   "execution_count": 21,
   "id": "88260e77",
   "metadata": {},
   "outputs": [
    {
     "data": {
      "text/plain": [
       "[6, 5, 3, 2, 1, 17, 21, 7, 15]"
      ]
     },
     "execution_count": 21,
     "metadata": {},
     "output_type": "execute_result"
    }
   ],
   "source": [
    "#Add the elements of a list (or any iterable), to the end of the current list\n",
    "lis1.extend([17, 21, 7, 15])\n",
    "lis1"
   ]
  },
  {
   "cell_type": "code",
   "execution_count": 22,
   "id": "1bc0935e",
   "metadata": {},
   "outputs": [],
   "source": [
    "#sorting elements in list\n",
    "lis1.sort()"
   ]
  },
  {
   "cell_type": "code",
   "execution_count": 23,
   "id": "32de2df5",
   "metadata": {},
   "outputs": [
    {
     "data": {
      "text/plain": [
       "[1, 2, 3, 5, 6, 7, 15, 17, 21]"
      ]
     },
     "execution_count": 23,
     "metadata": {},
     "output_type": "execute_result"
    }
   ],
   "source": [
    "lis1"
   ]
  },
  {
   "cell_type": "code",
   "execution_count": 24,
   "id": "7f8ef0e3",
   "metadata": {},
   "outputs": [
    {
     "data": {
      "text/plain": [
       "6"
      ]
     },
     "execution_count": 24,
     "metadata": {},
     "output_type": "execute_result"
    }
   ],
   "source": [
    "#Returns the index of the first element with the specified value\n",
    "lis1.index(15)"
   ]
  },
  {
   "cell_type": "code",
   "execution_count": 27,
   "id": "a4a22e3d",
   "metadata": {},
   "outputs": [
    {
     "data": {
      "text/plain": [
       "1"
      ]
     },
     "execution_count": 27,
     "metadata": {},
     "output_type": "execute_result"
    }
   ],
   "source": [
    "#Returns the number of elements with the specified value\n",
    "lis1.count(17)"
   ]
  },
  {
   "cell_type": "code",
   "execution_count": 28,
   "id": "0a3f115e",
   "metadata": {},
   "outputs": [
    {
     "data": {
      "text/plain": [
       "[1, 2, 3, 5, 6, 7, 15, 17, 21, [1, 2, 3]]"
      ]
     },
     "execution_count": 28,
     "metadata": {},
     "output_type": "execute_result"
    }
   ],
   "source": [
    "lis1.append([1, 2, 3])\n",
    "lis1"
   ]
  },
  {
   "cell_type": "code",
   "execution_count": 29,
   "id": "504a7bf0",
   "metadata": {},
   "outputs": [
    {
     "name": "stdout",
     "output_type": "stream",
     "text": [
      "[1, 2, 3, 5, 6, 7, 15, 17, 21, [1, 2, 3]] [1, 2, 3, 5, 6, 7, 15, 17, 21, [1, 2, 3]]\n"
     ]
    },
    {
     "data": {
      "text/plain": [
       "[]"
      ]
     },
     "execution_count": 29,
     "metadata": {},
     "output_type": "execute_result"
    }
   ],
   "source": [
    "#Removes all the elements from the list\n",
    "lis2 = lis1.copy()\n",
    "print(lis1, lis2)\n",
    "lis1.clear()\n",
    "lis1"
   ]
  },
  {
   "cell_type": "code",
   "execution_count": 30,
   "id": "5e00491e",
   "metadata": {},
   "outputs": [
    {
     "data": {
      "text/plain": [
       "[1, 2, 3, 'python']"
      ]
     },
     "execution_count": 30,
     "metadata": {},
     "output_type": "execute_result"
    }
   ],
   "source": [
    "#list allows different datatypes\n",
    "lis3 = [1, 2, 3, \"python\"]\n",
    "lis3"
   ]
  },
  {
   "cell_type": "code",
   "execution_count": 42,
   "id": "48732023",
   "metadata": {},
   "outputs": [
    {
     "data": {
      "text/plain": [
       "(2, 'python', 'tho')"
      ]
     },
     "execution_count": 42,
     "metadata": {},
     "output_type": "execute_result"
    }
   ],
   "source": [
    "lis3[1], lis3[3], lis3[3][2:5]"
   ]
  }
 ],
 "metadata": {
  "kernelspec": {
   "display_name": "Python 3",
   "language": "python",
   "name": "python3"
  },
  "language_info": {
   "codemirror_mode": {
    "name": "ipython",
    "version": 3
   },
   "file_extension": ".py",
   "mimetype": "text/x-python",
   "name": "python",
   "nbconvert_exporter": "python",
   "pygments_lexer": "ipython3",
   "version": "3.8.8"
  }
 },
 "nbformat": 4,
 "nbformat_minor": 5
}
