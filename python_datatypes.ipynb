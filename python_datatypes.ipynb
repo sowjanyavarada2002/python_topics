{
 "cells": [
  {
   "cell_type": "code",
   "execution_count": 7,
   "id": "2d7e2e2c",
   "metadata": {},
   "outputs": [
    {
     "name": "stdout",
     "output_type": "stream",
     "text": [
      "<class 'str'>\n",
      "<class 'int'>\n",
      "<class 'float'>\n"
     ]
    }
   ],
   "source": [
    "#converting character to the integer, float\n",
    "ch = '3'\n",
    "print(type(ch))\n",
    "print(type(int(ch)))\n",
    "print(type(float(ch)))"
   ]
  },
  {
   "cell_type": "code",
   "execution_count": 8,
   "id": "0f71c4ea",
   "metadata": {},
   "outputs": [
    {
     "name": "stdout",
     "output_type": "stream",
     "text": [
      "<class 'int'>\n",
      "<class 'str'>\n"
     ]
    }
   ],
   "source": [
    "#converting number into string\n",
    "num1 = 15434\n",
    "print(type(num1))\n",
    "print(type(str(num1)))"
   ]
  },
  {
   "cell_type": "code",
   "execution_count": 9,
   "id": "266a9dc1",
   "metadata": {},
   "outputs": [
    {
     "data": {
      "text/plain": [
       "'0x99'"
      ]
     },
     "execution_count": 9,
     "metadata": {},
     "output_type": "execute_result"
    }
   ],
   "source": [
    "hex(153)"
   ]
  },
  {
   "cell_type": "code",
   "execution_count": 10,
   "id": "7befaaec",
   "metadata": {},
   "outputs": [
    {
     "data": {
      "text/plain": [
       "'0o363'"
      ]
     },
     "execution_count": 10,
     "metadata": {},
     "output_type": "execute_result"
    }
   ],
   "source": [
    "oct(243)"
   ]
  },
  {
   "cell_type": "code",
   "execution_count": 11,
   "id": "fdc63245",
   "metadata": {},
   "outputs": [
    {
     "data": {
      "text/plain": [
       "'0b10101'"
      ]
     },
     "execution_count": 11,
     "metadata": {},
     "output_type": "execute_result"
    }
   ],
   "source": [
    "bin(21)"
   ]
  },
  {
   "cell_type": "code",
   "execution_count": 13,
   "id": "aaac1554",
   "metadata": {},
   "outputs": [
    {
     "data": {
      "text/plain": [
       "'pythonprogramming'"
      ]
     },
     "execution_count": 13,
     "metadata": {},
     "output_type": "execute_result"
    }
   ],
   "source": [
    "\"python\" + \"programming\""
   ]
  },
  {
   "cell_type": "code",
   "execution_count": 14,
   "id": "2f8bf5b0",
   "metadata": {},
   "outputs": [
    {
     "data": {
      "text/plain": [
       "'python python python python python '"
      ]
     },
     "execution_count": 14,
     "metadata": {},
     "output_type": "execute_result"
    }
   ],
   "source": [
    "\"python \" * 5"
   ]
  },
  {
   "cell_type": "code",
   "execution_count": null,
   "id": "7f2e7550",
   "metadata": {},
   "outputs": [],
   "source": [
    "#string slicing"
   ]
  },
  {
   "cell_type": "code",
   "execution_count": 15,
   "id": "0d67794a",
   "metadata": {},
   "outputs": [
    {
     "data": {
      "text/plain": [
       "'python programming'"
      ]
     },
     "execution_count": 15,
     "metadata": {},
     "output_type": "execute_result"
    }
   ],
   "source": [
    "string = \"python programming\"\n",
    "string"
   ]
  },
  {
   "cell_type": "code",
   "execution_count": 16,
   "id": "47e2fc9e",
   "metadata": {},
   "outputs": [
    {
     "data": {
      "text/plain": [
       "('p', 't', 'r')"
      ]
     },
     "execution_count": 16,
     "metadata": {},
     "output_type": "execute_result"
    }
   ],
   "source": [
    "string[0], string[2], string[8]"
   ]
  },
  {
   "cell_type": "code",
   "execution_count": 17,
   "id": "fad6d497",
   "metadata": {},
   "outputs": [
    {
     "data": {
      "text/plain": [
       "18"
      ]
     },
     "execution_count": 17,
     "metadata": {},
     "output_type": "execute_result"
    }
   ],
   "source": [
    "len(string)"
   ]
  },
  {
   "cell_type": "code",
   "execution_count": 22,
   "id": "d4e51def",
   "metadata": {},
   "outputs": [
    {
     "data": {
      "text/plain": [
       "('python ', 'pto ', 'python programming', 'python p')"
      ]
     },
     "execution_count": 22,
     "metadata": {},
     "output_type": "execute_result"
    }
   ],
   "source": [
    "string[0:7], string[0:7:2], string[::], string[:8:]"
   ]
  },
  {
   "cell_type": "code",
   "execution_count": 23,
   "id": "c9ed0888",
   "metadata": {},
   "outputs": [
    {
     "data": {
      "text/plain": [
       "('g', 'a', 'y')"
      ]
     },
     "execution_count": 23,
     "metadata": {},
     "output_type": "execute_result"
    }
   ],
   "source": [
    "string[-1], string[-6], string[-17]"
   ]
  },
  {
   "cell_type": "code",
   "execution_count": 30,
   "id": "52a53907",
   "metadata": {},
   "outputs": [
    {
     "data": {
      "text/plain": [
       "('gnimmargorp nohtyp',\n",
       " 'g',\n",
       " 'python programmin',\n",
       " 'gnimmargorp nohty',\n",
       " 'mmargorp ')"
      ]
     },
     "execution_count": 30,
     "metadata": {},
     "output_type": "execute_result"
    }
   ],
   "source": [
    "string[-1::-1], string[-1::], string[:-1], string[:0:-1], string[-4:-13:-1]"
   ]
  }
 ],
 "metadata": {
  "kernelspec": {
   "display_name": "Python 3",
   "language": "python",
   "name": "python3"
  },
  "language_info": {
   "codemirror_mode": {
    "name": "ipython",
    "version": 3
   },
   "file_extension": ".py",
   "mimetype": "text/x-python",
   "name": "python",
   "nbconvert_exporter": "python",
   "pygments_lexer": "ipython3",
   "version": "3.8.8"
  }
 },
 "nbformat": 4,
 "nbformat_minor": 5
}
